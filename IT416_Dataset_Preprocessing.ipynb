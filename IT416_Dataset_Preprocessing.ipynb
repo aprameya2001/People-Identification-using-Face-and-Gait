{
 "cells": [
  {
   "cell_type": "code",
   "execution_count": null,
   "metadata": {
    "id": "QMaYpiiU9Ghz"
   },
   "outputs": [],
   "source": [
    "from google.colab import drive\n",
    "drive.mount('/content/drive')"
   ]
  },
  {
   "cell_type": "code",
   "execution_count": null,
   "metadata": {
    "id": "dImfv8OQ-6ZO"
   },
   "outputs": [],
   "source": [
    "import os\n",
    "import random"
   ]
  },
  {
   "cell_type": "code",
   "execution_count": null,
   "metadata": {
    "id": "-5C1ixkgAfZQ"
   },
   "outputs": [],
   "source": [
    "if not os.path.isdir('dataset'):\n",
    "  os.system(' '.join(['cp', '-r', 'drive/MyDrive/IT416/dataset', 'dataset']))"
   ]
  },
  {
   "cell_type": "code",
   "execution_count": null,
   "metadata": {
    "id": "c8el_dlfA51y"
   },
   "outputs": [],
   "source": [
    "if not os.path.isdir('extracted_dataset'):\n",
    "  os.system(' '.join(['mkdir', 'extracted_dataset']))\n",
    "  files = os.listdir('dataset')\n",
    "  for file in files:\n",
    "      os.system(' '.join(['unzip' ,'dataset/' + file, '-d', 'extracted_dataset']))"
   ]
  },
  {
   "cell_type": "code",
   "execution_count": null,
   "metadata": {
    "id": "aR-8fPVDDKKF"
   },
   "outputs": [],
   "source": [
    "people = 40\n",
    "timesteps = 32\n",
    "\n",
    "for i in range(people):\n",
    "    folder = 'extracted_dataset' + '/' + 'person' + str(i+1) + '/' + 'gait'\n",
    "    styles = os.listdir(folder)\n",
    "    styles.sort()\n",
    "    for style in styles:\n",
    "        folder2 = folder + '/' + style\n",
    "        angles = os.listdir(folder2)\n",
    "        angles.sort()\n",
    "        for angle in angles:\n",
    "            folder3 = folder2 + '/' + angle\n",
    "            files = os.listdir(folder3)\n",
    "            counter = 0\n",
    "            while len(os.listdir(folder3)) < timesteps:\n",
    "                counter += 1\n",
    "                for file in files:\n",
    "                    os.system(' '.join(['cp', folder3 + '/' + file, folder3 + '/' + file + '.' + str(counter)]))\n",
    "            files = os.listdir(folder3)\n",
    "            random.shuffle(files)\n",
    "            files = files[timesteps:]\n",
    "            for file in files:\n",
    "                path = folder3 + '/' + file\n",
    "                os.system(' '.join(['rm', '-rf', path]))\n",
    "            files = os.listdir(folder3)\n",
    "            files.sort()\n",
    "            for k in range(timesteps):\n",
    "                newFile = str(k+1)\n",
    "                while len(newFile)<2:\n",
    "                    newFile = '0' + newFile\n",
    "                if (folder3 + '/' + files[k]) != (folder3 + '/' + newFile + '.png'):\n",
    "                    os.system(' '.join(['mv', folder3 + '/' + files[k], folder3 + '/' + newFile + '.png']))\n",
    "            print('person', str(i+1), '\\tstyle', style, '\\tangle', angle, '\\t...done')"
   ]
  },
  {
   "cell_type": "code",
   "execution_count": null,
   "metadata": {
    "id": "2xf2eckNCJmr"
   },
   "outputs": [],
   "source": [
    "if not os.path.isdir('processed_dataset'):\n",
    "  os.system(' '.join(['mv', 'extracted_dataset', 'processed_dataset']))"
   ]
  },
  {
   "cell_type": "code",
   "execution_count": null,
   "metadata": {
    "id": "JPKS0x8uF-7E"
   },
   "outputs": [],
   "source": [
    "if not os.path.isfile('processed_dataset.zip'):\n",
    "  os.system(' '.join(['zip', '-r', 'processed_dataset.zip', 'processed_dataset/']))"
   ]
  },
  {
   "cell_type": "code",
   "execution_count": null,
   "metadata": {
    "id": "EAEerUgWDC2_"
   },
   "outputs": [],
   "source": [
    "if not os.path.isfile('drive/MyDrive/IT416/processed_dataset.zip'):\n",
    "  os.system(' '.join(['cp', 'processed_dataset.zip', 'drive/MyDrive/IT416/processed_dataset.zip']))"
   ]
  }
 ],
 "metadata": {
  "colab": {
   "collapsed_sections": [],
   "name": "IT416 - Dataset Preprocessing",
   "provenance": []
  },
  "kernelspec": {
   "display_name": "Python 3",
   "language": "python",
   "name": "python3"
  },
  "language_info": {
   "codemirror_mode": {
    "name": "ipython",
    "version": 3
   },
   "file_extension": ".py",
   "mimetype": "text/x-python",
   "name": "python",
   "nbconvert_exporter": "python",
   "pygments_lexer": "ipython3",
   "version": "3.9.7"
  }
 },
 "nbformat": 4,
 "nbformat_minor": 1
}
